{
 "cells": [
  {
   "cell_type": "markdown",
   "metadata": {
    "toc": "true"
   },
   "source": [
    "# Gradient Descent Intro\n",
    " <p>"
   ]
  },
  {
   "cell_type": "code",
   "execution_count": 1,
   "metadata": {
    "ExecuteTime": {
     "end_time": "2018-01-04T02:36:20.970159Z",
     "start_time": "2018-01-04T02:36:18.744580Z"
    },
    "collapsed": true
   },
   "outputs": [],
   "source": [
    "%matplotlib inline\n",
    "import math,sys,os,numpy as np\n",
    "from numpy.random import random\n",
    "from matplotlib import pyplot as plt, rcParams, animation, rc\n",
    "from __future__ import print_function, division\n",
    "from ipywidgets import interact, interactive, fixed\n",
    "from ipywidgets.widgets import *\n",
    "rc('animation', html='html5')\n",
    "rcParams['figure.figsize'] = 3, 3\n",
    "%precision 4\n",
    "np.set_printoptions(precision=4, linewidth=100)"
   ]
  },
  {
   "cell_type": "code",
   "execution_count": 2,
   "metadata": {
    "ExecuteTime": {
     "end_time": "2018-01-04T02:36:40.485374Z",
     "start_time": "2018-01-04T02:36:40.478784Z"
    },
    "collapsed": true
   },
   "outputs": [],
   "source": [
    "def lin(a,b,x): return a*x+b"
   ]
  },
  {
   "cell_type": "code",
   "execution_count": 3,
   "metadata": {
    "ExecuteTime": {
     "end_time": "2018-01-04T02:36:42.963637Z",
     "start_time": "2018-01-04T02:36:42.957872Z"
    },
    "collapsed": true
   },
   "outputs": [],
   "source": [
    "a=3.\n",
    "b=8."
   ]
  },
  {
   "cell_type": "code",
   "execution_count": 4,
   "metadata": {
    "ExecuteTime": {
     "end_time": "2018-01-04T02:36:43.245231Z",
     "start_time": "2018-01-04T02:36:43.237304Z"
    },
    "collapsed": true
   },
   "outputs": [],
   "source": [
    "n=30\n",
    "x = random(n)\n",
    "y = lin(a,b,x)"
   ]
  },
  {
   "cell_type": "code",
   "execution_count": 5,
   "metadata": {
    "ExecuteTime": {
     "end_time": "2018-01-04T02:36:43.510860Z",
     "start_time": "2018-01-04T02:36:43.494279Z"
    }
   },
   "outputs": [
    {
     "data": {
      "text/plain": [
       "array([ 0.3972,  0.4409,  0.2642,  0.9795,  0.525 ,  0.5604,  0.377 ,  0.2615,  0.8074,  0.1432,\n",
       "        0.9611,  0.2831,  0.6601,  0.3446,  0.4784,  0.5288,  0.6852,  0.1585,  0.1217,  0.7688,\n",
       "        0.5391,  0.2149,  0.1422,  0.6786,  0.7742,  0.9304,  0.7472,  0.1283,  0.8174,  0.463 ])"
      ]
     },
     "execution_count": 5,
     "metadata": {},
     "output_type": "execute_result"
    }
   ],
   "source": [
    "x"
   ]
  },
  {
   "cell_type": "code",
   "execution_count": 6,
   "metadata": {
    "ExecuteTime": {
     "end_time": "2018-01-04T02:36:45.112417Z",
     "start_time": "2018-01-04T02:36:45.101377Z"
    }
   },
   "outputs": [
    {
     "data": {
      "text/plain": [
       "array([  9.1916,   9.3226,   8.7925,  10.9384,   9.575 ,   9.6813,   9.131 ,   8.7844,  10.4222,\n",
       "         8.4297,  10.8832,   8.8494,   9.9802,   9.0337,   9.4352,   9.5863,  10.0556,   8.4755,\n",
       "         8.365 ,  10.3064,   9.6172,   8.6446,   8.4265,  10.0359,  10.3227,  10.7913,  10.2415,\n",
       "         8.385 ,  10.4522,   9.3889])"
      ]
     },
     "execution_count": 6,
     "metadata": {},
     "output_type": "execute_result"
    }
   ],
   "source": [
    "y"
   ]
  },
  {
   "cell_type": "code",
   "execution_count": 7,
   "metadata": {
    "ExecuteTime": {
     "end_time": "2018-01-04T02:36:46.263177Z",
     "start_time": "2018-01-04T02:36:46.029325Z"
    }
   },
   "outputs": [
    {
     "data": {
      "text/plain": [
       "<matplotlib.collections.PathCollection at 0x7fbe91cf2f60>"
      ]
     },
     "execution_count": 7,
     "metadata": {},
     "output_type": "execute_result"
    },
    {
     "data": {
      "image/png": "[encoded data removed]",
      "text/plain": [
       "<matplotlib.figure.Figure at 0x7fbea0625240>"
      ]
     },
     "metadata": {},
     "output_type": "display_data"
    }
   ],
   "source": [
    "plt.scatter(x,y)"
   ]
  },
  {
   "cell_type": "code",
   "execution_count": 21,
   "metadata": {
    "ExecuteTime": {
     "end_time": "2018-01-04T02:51:11.740479Z",
     "start_time": "2018-01-04T02:51:11.726388Z"
    },
    "collapsed": true
   },
   "outputs": [],
   "source": [
    "# sum of square error\n",
    "def sse(y,y_pred): return ((y-y_pred)**2).sum()\n",
    "def loss(y,a,b,x): return sse(y, lin(a,b,x))\n",
    "def avg_loss(y,a,b,x): return np.sqrt(loss(y,a,b,x)/n)"
   ]
  },
  {
   "cell_type": "code",
   "execution_count": 22,
   "metadata": {
    "ExecuteTime": {
     "end_time": "2018-01-04T02:51:12.089853Z",
     "start_time": "2018-01-04T02:51:12.078365Z"
    }
   },
   "outputs": [
    {
     "data": {
      "text/plain": [
       "9.0854"
      ]
     },
     "execution_count": 22,
     "metadata": {},
     "output_type": "execute_result"
    }
   ],
   "source": [
    "a_guess=-1.\n",
    "b_guess=1.\n",
    "avg_loss(y, a_guess, b_guess, x)"
   ]
  },
  {
   "cell_type": "code",
   "execution_count": 23,
   "metadata": {
    "ExecuteTime": {
     "end_time": "2018-01-04T02:51:12.428677Z",
     "start_time": "2018-01-04T02:51:12.422372Z"
    },
    "collapsed": true
   },
   "outputs": [],
   "source": [
    "lr=0.01\n",
    "# d[(y-(a*x+b))**2,b] = 2 (b + a x - y)      = 2 (y_pred - y)\n",
    "# d[(y-(a*x+b))**2,a] = 2 x (b + a x - y)    = x * dy/db"
   ]
  },
  {
   "cell_type": "code",
   "execution_count": 24,
   "metadata": {
    "ExecuteTime": {
     "end_time": "2018-01-04T02:51:12.846509Z",
     "start_time": "2018-01-04T02:51:12.821947Z"
    },
    "collapsed": true
   },
   "outputs": [],
   "source": [
    "def upd():\n",
    "    global a_guess, b_guess\n",
    "    \n",
    "    # make a prediction using the current weights\n",
    "    y_pred = lin(a_guess, b_guess, x)\n",
    "    \n",
    "    # calculate the derivate of the loss\n",
    "    dydb = 2 * (y_pred - y)\n",
    "    dyda = x*dydb\n",
    "\n",
    "    # update our weights by moving in direction of steepest descent\n",
    "    a_guess -= lr*dyda.mean()\n",
    "    b_guess -= lr*dydb.mean()"
   ]
  },
  {
   "cell_type": "code",
   "execution_count": 25,
   "metadata": {
    "ExecuteTime": {
     "end_time": "2018-01-04T02:51:15.229970Z",
     "start_time": "2018-01-04T02:51:13.334611Z"
    }
   },
   "outputs": [
    {
     "data": {
      "text/html": [
       "<video width=\"500\" height=\"400\" controls autoplay loop>\n",
       "  <source type=\"video/mp4\" src=\"data:video/mp4;base64,AAAAHGZ0eXBNNFYgAAACAGlzb21pc28yYXZjMQAAAAhmcmVlAABMMm1kYXQAAAKvBgX//6vcRem9\n",
       "5tlIt5Ys2CDZI+7veDI2NCAtIGNvcmUgMTQ4IHIyNjQzIDVjNjU3MDQgLSBILjI2NC9NUEVHLTQg\n",
       "QVZDIGNvZGVjIC0gQ29weWxlZnQgMjAwMy0yMDE1IC0gaHR0cDovL3d3dy52aWRlb2xhbi5vcmcv\n",
       "eDI2NC5odG1sIC0gb3B0aW9uczogY2FiYWM9MSByZWY9MyBkZWJsb2NrPTE6MDowIGFuYWx5c2U9\n",
       "MHgzOjB4MTEzIG1lPWhleCBzdWJtZT03IHBzeT0xIHBzeV9yZD0xLjAwOjAuMDAgbWl4ZWRfcmVm\n",
       "PTEgbWVfcmFuZ2U9MTYgY2hyb21hX21lPTEgdHJlbGxpcz0xIDh4OGRjdD0xIGNxbT0wIGRlYWR6\n",
       "b25lPTIxLDExIGZhc3RfcHNraXA9MSBjaHJvbWFfcXBfb2Zmc2V0PS0yIHRocmVhZHM9MTIgbG9v\n",
       "a2FoZWFkX3RocmVhZHM9MiBzbGljZWRfdGhyZWFkcz0wIG5yPTAgZGVjaW1hdGU9MSBpbnRlcmxh\n",
       "Y2VkPTAgYmx1cmF5X2NvbXBhdD0wIGNvbnN0cmFpbmVkX2ludHJhPTAgYmZyYW1lcz0zIGJfcHly\n",
       "YW1pZD0yIGJfYWRhcHQ9MSBiX2JpYXM9MCBkaXJlY3Q9MSB3ZWlnaHRiPTEgb3Blbl9nb3A9MCB3\n",
       "ZWlnaHRwPTIga2V5aW50PTI1MCBrZXlpbnRfbWluPTEwIHNjZW5lY3V0PTQwIGludHJhX3JlZnJl\n",
       "c2g9MCByY19sb29rYWhlYWQ9NDAgcmM9Y3JmIG1idHJlZT0xIGNyZj0yMy4wIHFjb21wPTAuNjAg\n",
       "cXBtaW49MCBxcG1heD02OSBxcHN0ZXA9NCBpcF9yYXRpbz0xLjQwIGFxPTE6MS4wMACAAAASUWWI\n",
       "hAA///73aJ8Cm1pDeoDklcUl20+B/6tncHyP6QMAAAMAAAMAJAL8x7+hB0M0IAAAUInP4LJXTUFR\n",
       "Bq1ViRE7nmVugr3qHwjjbq4yqtZnH2dD/PRH4qMF3383q0XiC6K7q89B8NNF+yB4lSsc8GA2Q9EM\n",
       "SZo46MPVl5rm6Gw5AAKX+V9z79MSZb04X9TaepFzkBJAxXPQIjHVSVo8ywX2ohW0CD6RsB/o7Awt\n",
       "XGSouFsTDkvkS+zyShwnnvppsiuR2Ie3nBFjCjQhNdvV1VTpeOJC2kYwNVBsh8+OqBbJ/0IXMlxt\n",
       "x7G67O69NXFOvy5Bfl1QfK960LHxLrpB2FG7gGkaPc6bmQr1/VtrbG6TWELWtxl8+qQQLt2EkGVG\n",
       "Jr9E8wFJnuxFp3/tOe+wC+WJUPexP5w3Jw/+8MxNYgCI4yna/B14WUCFQAQL0ekc6hx5JFI0TPBi\n",
       "lWpcX9CUGX7nt8/bHWYWojh494niFMVZenfU0d9fpAl/A4Gr+IaC+b/0DKoru0HVGv7Vhn3J1Pma\n",
       "MrwmQ3P1iubU3AdLY5AR9t8AUMkaGniger934oJePuTgzkV1NrT+1k142OhibZW5a6/tR/r34Sxg\n",
       "u4sm6pkK9Xm4jqB1ZYotf/VO1rFUUy6veyNpt3+cd264FTCx2dMDRVZmf4l/KwBGcf5UlI/pOwvB\n",
       "7IsgWqOQKOLTO1UHwIDJBKveQ/9fKtfAQeYFlDm7QcgaxO7mKEHRyK6vWQyWNK7dilR3Yd8+Omaq\n",
       "Njd8LokQp3k3qFgLilfFuTtIXetOIGhxd7cfrsI28fzh/MKYFr1h2hwhC2qJzIHv88L2s3JdthE2\n",
       "4fF4pg+7AxQWbrAXWWGsIGS2lIgl1qFPMBYdLfdBSYf08p9Gz60fZFxzNQgLpcyrdeFRl2iRK8BY\n",
       "DbqwszsmCltW5RLPFzMWlTGYphvrUuPhp1h/YmSIv+btKApa5muMlMaeiEHDtvyzYuVosu8f+/6C\n",
       "ExHjWn8UFkr5t91pD0BhPtBkKTA1Zyq/Psf7SWuZkCa48QgXpjLiO6R2EfUXDNayZaxUC6eQTylC\n",
       "vN1PZP46J2ne6o61/WQGV0AEUoTKYE8HXbCUs8yIF8dRRUOzVX4HGUSoDA3sdFZn5OwxYVTL+hro\n",
       "j34yBEMNtDMxRy84/WxW6HNb6X7G4DtHWMGTXsZWizvmxMwpIAP/b7U1h9yjOX/i+Xh/pMOWZQAk\n",
       "tcKSw+o+yNWWzlLKk4YprPEQQsR9TNUc4EMAAGjYJx91x36ES+Bs4LifEDM02Ll87XG7R8JhAddX\n",
       "So1rP5ndCG7Yvrz3K9uaqV+/vcVS5L16LR1MA3JQR8uAVdb61VC9++0AQ+SZrrr6xwoL5bUeoOw9\n",
       "uL9bw1LCia241FqL7kuo9lCVD26eJJ6IfBvc1IoQ5x/UZllmT0uITFgLaMB1OaCx7VB5S9kDbO2R\n",
       "bSiejERSDZ+9xTwLTa5mcOvxkzsfVOrpp+tH5ErgUUxfyQoPk5Wh8Y425aao9Gtdu5iNpFfzYgVJ\n",
       "W5LkglLpjZzcCqs2sP3Pa2+WTOQ7NOi6e2gblcyjOqiemOEF2/yczJmk8PS6VbsPJSzyrXPC4Wg8\n",
       "5x80glqQH5NwOzVhHQI9rv1pI50jeCxw98TR7fmUP6SP4Iu/7sWaTz1h/VfRCL0BkiuD9ZWLrea+\n",
       "MO8j2AwsKt7i7ReA6wS1Glf1JQltJn8/a2DY0327Uy435fB7LXv0s0wm8x2iNUfUn1JJZueVUjdr\n",
       "t4z9zv6Rm+ck80gdfq833cX9tljVc7EVmQ4oarlbpNvKgsfsmDyFuWclxtX3L+ogxT7gz/axR9uU\n",
       "O0I5uZsWVrpq4i7FTpQAl6QQe2lcTbmc8Yy6fuDImKGdt6iUgdfvtplZ7xPPX4ELWxFDukPGDS7A\n",
       "EuihNmrGj0hcwzGjfASCNHbdgbwEPUzEhWwRKjWcZgtvIAGqsgqafZLLPYxIbUupB2jwoQN1cp4v\n",
       "tQysB6gueSOxiIWAo5aNpmMmD4oL3j65AXRZp2BtrHyCxyn0g/BrUpp7V8vWzR7Csnl4pCMDOPOA\n",
       "3scrnhuZH3WFBmxIxJTwkCWBkTLlACnaVUYCfNkyEIbkJF/OqRV4q32/wm/LXyZFsLTkACCEsCAz\n",
       "URV0tF0zETRP6K1BQWgKsLnFhlRthBxZoHMaW4u2AfFqlFVOX7ZF6FD8tcKFG3nURC4E3SurMoYd\n",
       "i8CzVvbciiiNetF3OI17RqvgnxGjkc3JE0BYrF8jhQF/9OnHGAx07Z7mOF9rECg3Wg51D+z6N8V8\n",
       "GqJPGOWE9JgjZYfxlFaBV8K+0tOjrBlOGpsC0iCrZmpJxBDzSC0wTE31USi8uEp3Cw64er+p2kPP\n",
       "cC3JAMADyZyW63f3tJZFMXqDD7dfB6n+gOC4UMqmYgPWaaHnp/y7TPEB4BxETec1yyvu+JHVM5xL\n",
       "akbmU8HY1B/EmdfYsrC75msuQsP/B4SfHumtKpa39tv/24wAcO8cbsrz2dk8AGfGcxBYtD9NSyp5\n",
       "FQ15fy06K2XI+eA/hS65teE2wqZGPnsWRRyLYXoANuKJ7PMaw+3s0ze/n+AcYGfwzuU/J+hYoi7r\n",
       "nWyakP5ul9Xr8egdB0d3UTOWioZlR3T7fdiqFAqgbwo4h8i8XDNBQuY++ELUpJdXn88fH2CmchrO\n",
       "bGWKiPfaZ7jPHSJ4p0MALrgXIw9NIPPw5zi7M2FvF53kZQ21w8xtQ8wCnpGsL/sGE/n8z++Y5jOG\n",
       "6kAdZBmOfkiJ8BTWXyyrBDzVp3H9GoZfQbb/AkF+Gz9Ic/utozf/hSHuLL5rG/X0JInxcvIbP3iE\n",
       "8HH58pOfcNfaJTixcDg+5gQAxRiN9sY6g2dBtzFR8tjurowWXRpSm+vL2B1ZqHoBzfBK5TaZOZv+\n",
       "R5hetg/pt4yJFGXJcS1IRVKYi2bejim7pvug7bueiBjnruyOQ6C/05lQ8NOmMH87zQN0wbGvoLWp\n",
       "Bykib4JmBsFr5DR/QfgRMvhuDUP2iVIoYz7XqORY+A6OQoKd87JGraMbEiMdkUEa3q6zak1Gq5Hw\n",
       "MnTQs0YFq7YWe0/hcfupFUUinwlvWO6brbHFyflzfsw0j8pYFdOxtwetj6h3G4POeVI8J/getMp6\n",
       "B4atQRzP3rQbMgNDZS7wL6nbETUZRGwjxY6kHNjKPu8JVF9Zb0mSqb70qF0mDgilu2XrEcCsG1Ws\n",
       "1iTFTa8akmv4vSK57PMaGYo5UqMkFhUhcBDFAkdDDHmDMO6hun/y7QxRKHoaNUu3DqcoMY09RHPG\n",
       "arHryKyg1JMvTTXfqQFTs7RD7VgOEJg3O+Am9AeBjbxhVqwAP2O/PqpP7fIxfdX2yuqRokL0AOIw\n",
       "gZAD5i8BN7leeYStuCQeH/ixOqe0nDJf/0Z+7LJlDicWjo9lNUOjPp5bK3Ef9zUvW++XxeraAr9S\n",
       "COQ+AjUeAasDWJgp9dMENx4o2ynwDVky/fYUqJRcMyShLscqT7XQ8E4eLSbw/WyB2YxNwmUunucW\n",
       "ChDzjgq46fctxL2Y/p/ibZ1O2sz4EVzh2q8gvWNajmoF78hePkA0gIVTAdhIYIJ4YJAQfAcZ1XFr\n",
       "aHgUXFo49ejv2gfMUaEF07Aovr9MtK1SFhPGGzDCh225MG+y/qlFNCTLWMMuHyCooQx/PiueEt3F\n",
       "EfdBOk7f5fqMdb13JITvZ9UfWAHfbUPX0C1/yoyY5tXOYHgAAAMDl5tD59arheAAABAByuK+GL6w\n",
       "Dos1CpQQam9hqnuWmuw8cMECs7N1T7/CMXBOqz8qGLKU/6ufgiegqfzpw16Bf6d53sBCQwmrYfom\n",
       "HLeeudy3ry067HlzWpSNjbh7r5yhLJxCYotuPCjgOaSMFv0V3y8d66rrYb0MT/lqNWOJl7fKYkAE\n",
       "gSLBWIz8IpWv09Plb39hE7xyqMyslrYRitNS8JMnt6fj6Z3XhZGv5oRBr0ER/RYkD3AV1SqrMcpJ\n",
       "NTzvcV1dZzqEi91jXJmQML6cdshS41y/IO2LKiP3emSN/TDmv5Rh4EihFbDunzqWCkw1hjeE6Z5g\n",
       "npxWooqhTmZqUi2oCPTecvxdpYlCIKE77zqnId+U6mJyiZyRH//tAqzORF6nPQMG24htnrP0C1qJ\n",
       "1bzsZ4dJA3K3H9tiIix+ms7dj4e/7UKuTXIeAtJi8Ve7PzIalRGEE1FJzZGJngE2jN2VxQ3Akg3e\n",
       "Ct7lnR6n3AhK9Cb532XU5ixTccN+MlOr562t8xYF0bRqakiZ+R3QN8PWO337w+QJUnQ00Za0XBqo\n",
       "7DRvTwmTMxHkDXk0ipjKAkX9CUerCPwI1Jp87NesRSVtCi7tNMKKK8f3ex/ZdNnKHAO+F5Gvy0SE\n",
       "OXvaTZqpDkDGyTd81HWtijN4thp4Mba9XuOWHNDjImI6N2gvK3JjPXjE/UCXnmlhhvToR1QJYbpp\n",
       "tyZG2PeDqmbTMFPfxdl2RrsSgOpK24ZYa2B+v0snHuEFAnYePi/Xbqi0SfUr3uTU79PMJ0PtVmN+\n",
       "km9OmrHdgLsn9k7OkUXHSh1x+IC8u6XGHAp2U/oRgXbOc4ttoilxDZfwHN/Orv6yEVo84FwW3SNx\n",
       "IMWjH/r35bHjTGlaX7L1YdTSwXohoS6CCcX/AakAskgIRoRsVFWcGVplLq9VSqfX+kubQUBT/nhF\n",
       "jHtYoitR5k3hbjtKlHYuFbK1HTUdtVViqsQNFZ6OhKAwQvTiT0Jgy8w8YOCHLanOXz/kkk0Ocbrf\n",
       "tD+MNPn/DdnOz23Nkan37MIz+s5TPS9Nk0opxZ/ooZ9W3KQx/KaAGy7Euq3EZePrmGLT5GhgWUEj\n",
       "AZxLeZTjlTXNWgKg0GwQxd6x249k13n3zRAyKXMhPiHW6MV7atXEDnwYyMlfzHHUShdHoc/P34AZ\n",
       "qYKOml3y+fXTSZdParmKP/Oiel9cf6wpqT0EF/CXz3K1lbj/4FxOlB7CIRvd1FRbJ7mF6lfG9cyY\n",
       "lrQXcma0KS9mDnU9XFeQeOeuSmNytsNj5leEKY+TvtaiVZCVrgKgygPivER+givSOBsrTVrul61s\n",
       "YzNk/vJDedOpEoiaCKbDRL8Of2s1aBeyD6mdVxzb+WfmvyZiHegKru6XJooxpxpgYvMSFFnJFyZy\n",
       "7CcO52rx6As7h074lvC61cf+MC9igadCy+lc0UY/zWWGfzUTcDleoppqf8j6dF5RWLFNqBd37hGM\n",
       "7ExvD3SzcepdZMOhNC+N9Z7yGtf9SPEAOjCvmeR+dPGjP9ybhzY81kObSSi8MNP7bE2d09jnrtdp\n",
       "hF0/ev7nIMxNYLEXvL2Nvi/PV/HHHC3C4hmsUC+GvaNPG1tXA7EdVR7wn04d70eSM9iNdOTIDuT/\n",
       "/p9vp1FyasxdeVJR+1auwO92Ju46q5IDuPh2/1iq+Eum3er/0cNYWvNIgXVwbUCMnpQwEFI/5Ip/\n",
       "tsSxYVen1m0pq6+J7b+Swll+F9bhcl9YBgN6JzB930rR/OngnB0L9hc7tvWsB4DEO9nuHjgmbjjK\n",
       "apW/1jFtSV13Pd94QAQk5NNM5uFHEfBaj3PMl+XazYBVMkNKaYHabZwkBsXKw5Wsb1vu+jgG9Kje\n",
       "z4bLAsyq2We0Ld4IH0ziMU6XpkWevV5851aWQzvuCAX58GPiw7yjft0GTjnkFK7kyj6U6uOzyPg6\n",
       "lsAAT4YHiagoWCC+kjYkvDm8HSsx5pu+31K8Bpl6Q5X0FA9YnwkJERytSn+BBCdSfzB/sG0aOC36\n",
       "1WrlRZSW0eALdmhNmUd4n/HUKFk27nXc2w/Zy6z4sGugiNSVWRPqtJpUmq3NkDeGahddZ4PBwHtI\n",
       "CPvuqjcOoHkjkqvX8wSIBKZQ5nXEGCeLSEqUwLZx30nlFZE2+TwduiO6XTaYGajC2PLrHskt/0jK\n",
       "XGWo/sgQL/pjQdYKJvXWIjXiIYBn3R8Yse/BfsL9COoDDDBqdoIXyzUPLftrOiGMPN2pnxbhBpWh\n",
       "7ZII9f1ycO8wGMbXzGJOROcGxdV1QKnxP87IChCiaX70FZPV3YVK7zHLECX+9IDCx5T7EHYW5MRv\n",
       "GMShQuR9zU/JvAK3CaIrZVH4ptHPAMrBERxRjkCgr4x6rTID6CNOSsq00mJc9wZt1cbgRzSETQqV\n",
       "ACVZFZfz/CuZoL/WfG4fG6YbCMZWoho3XO8Z21l4J4YWGcBDt4kM+s0yvwL1FSDxQ08Q1bCxfC0T\n",
       "NL/CUTSNQVkJreZPYLJDZZCD1qGyrrxOFwzyghU/xdpkGjhTKOQGHklqI3OTHVGxy6XkFZDEtiZ4\n",
       "m03paG5QdYBTgAABIwAAAcxBmiFsQ//+qZYACUMnOgBn8PpUh0XFz3wPX32QkqkBLIVUUeT3g9zH\n",
       "G95XKyI4VT9Os5RI1m3TX9wbuQzRAqtvz0iiKzkhn+/q2W8F8o+yFKIjMk3DLCXwUgMt8fyPffcz\n",
       "TfYac/mqMYyIbWmzKt1fFa9daaCFwRDZpMncpIWb3xZPd5MOjR3wLUs00LHqIdy9OO+fZFMgdEBS\n",
       "P89ZiX5v+iEJHPL99wjgP3YxjrX6diUlQmJ8H97RRbvSlbs8YvgS3RH/AjMPrMakdLiE1eBBUGC0\n",
       "oybABx+wCLzqvxuom3eq8QWzkcf9zpwm/Yt5nDfAzy/KLK2N+f1H6gOmRBART8ZaSttHx/iYfQoW\n",
       "cNYB9lLv9OclgVLKUo+rFvT30ftCaYmQ/bF047NEcaENc9HTYftGFJbn1vKy//fgeON5+Y+j8Yd6\n",
       "n+36bmm2CmRQQAGVtneoXOTCjyxh83Adxr4MKNOBhCh3Pe08v2ywy03SsqZ7+G1f4LAfgv4o/8mY\n",
       "H8WqLHUiVDSCzz6lyOzYLnb2Hz1qVbk7/NiZTxIlrYMAAAMAAAMBaAAAAwAanqgH95ObKjiSASz6\n",
       "PzNYy465a6xlTReBVuQ21DPpRevwAAACqUGaQjwhkymEO//+qZYAABADXygBGVzsg/rnD1vKnSbP\n",
       "JcTVUN/cHpinVTeZzuDkb+J/9Cz2Axl/PyYZEfnxuMt5znS/k8zKxJ6hNRTU5uIH5G27GEtkNSbm\n",
       "zY1aTr5BnnLwehVXZKbBjZQBp6CEuWfRMetuRIaNWgB/FUOIL8pVjhsiRFvzxKfW8iZyJcAosYPL\n",
       "O649ryx9sKbVWLzz8h5QdUjj4OErnmO7qdKt1JL24F9l/eD9SaGvMd7VXcKi7PuPVZ/Uln9ZGO/w\n",
       "UqGWZJPD/+/bUSxQoufEdJSg5PmPfcHFoKMeuysGrUbdphYGGPeTgo5lr15JIyAMGKBo9sNWnzEh\n",
       "B31Cc4mi7fTRkx1zS6EZwAs2rpp7WeA6MzyScnO3hnEz8kcRXSfXmWOyR17sF5brPlAv2BvbBxi9\n",
       "7Sh0Xh3HjxMveKsylFbURq6rfCoacZtyU5vhpu7kLVOw613+ix/onuFgS3VvyGLjV0qMY9iz820z\n",
       "PTV3yXxtudsA1bflzL9bOqHdZQhh5MSuePRqrv+bZOexHATCw14/GcQjtBJQ9i5ZoaCtdAENbEch\n",
       "1Jz0Mjhv6vBhh81vZ9P4LEQLSnBk3eqSfT99nhUDyGmmPa/cy0BLrhy/vXG15mTMX+VIRS5OnOvP\n",
       "pku9b6urhyaYpc9EWYJPPpUYHddLBjbIzTVI43Yo9nBhj4WozKb6Mdj0axbkwxxs4k+cLaxzackL\n",
       "GGbnxyDfyjQU1QsBNu68DtV2B5V7DgqXImh+5B+ej3Wx/K4q5cbrRfjYrNRbrFWZAhLxtIPKw6Li\n",
       "tfdKcWNkT4p3tiUUdm+YoHk1LXsXCnOxBgdndv5QXS9nw6mHipZaZAQAJIW/baKZmjKVWrNjYa+G\n",
       "s6qQNm7NCdaA5NAAK2VIPjUsJgAIOQAAA41BmmNJ4Q8mUwIb//6nhAAAXPVADX+y8Ys6wmYjo5hO\n",
       "PLd74Cq8Ke95nK97jMEGTiLh4gp3ow+3wVyciVpnNbnu9ow6lb/sWQ4Ry0yqeEaRyC8BgUYW2wNz\n",
       "D/LU6eK7i94GskmgILPZrUxmTZV3zKZWCTp9uW1vqjFrEDuERb8K0+XTaMQb4AaE00QS7IhtvUKN\n",
       "6xBtfT4cMDvupodmqna3nnmaoJkDA8AMgu6vMZOrHh3dkpqN7wPAkreXVi+qS7687StWi2S5T8tI\n",
       "s+VzOsiXJQvM7C9Ws5yl+bbfHQLvG6UySCZnNsS1UvLvqMZmHDR7jyg9N8B5GbumzajfwMjrkIQp\n",
       "zAab6rJd17p14cc5XnPWGtt9Wf3H18J/yhKiJxWB08sFYf3gbOsnTmWicdcr2kZ4XTNjpVrI3b8T\n",
       "z/DN75D5nuxHnIoar6rZNIND+87Q3TUEdr7u0G9DHaAW/wP6Xm6qSx/pEcXKtyPZVby72Ab3+oe8\n",
       "+BxKC8LTvHmRpTNHTCPKm56Cj/i/HeZCRQZJ9/yXQp15EKHoMWEwaPhh88Q3Gvzd6pLBgDS1WyYp\n",
       "BJ7RpsTYgSIU1JmexsoxRO+bpe81QIjdjz0lOLR9r/hUoP5D8DHaoD/Rug5zQx4/LNrLjSFM+Meu\n",
       "ITDJ4dbGMCNjU4Yyt1cF5bjoj/KuF9aaxqxAP6Q7bPIlpS51P/pobF/mjuuEbHswUSMkN/81WG91\n",
       "j3vYTADHg9cwMSrpBdyw/iAoZ5wJP/VvXIobBikiqgd0RS4PGB3MKzX89B/ZaXcNZs8vwIv2qlTp\n",
       "FhsGfxEIZBy2t+mK/P7t/dRJL/6pxXV75TayjcQyCiH7Svgs3zNBt/gEmI8nlmEhIsH/3tOhTtgK\n",
       "3FG0tyfs8f7GjLPT4yGTy2BiHLQEaXkChz5J8lJRTrSJjzKkSFh28u2Kg+XReWmHvxP/h56l5Y0P\n",
       "Zs+DFEkSwuOHMX1Elrd/gYVmHupHZJCwo2Zg4RQfUunNgsypFSbhaObNHRLz21d93JsLItpjX/aJ\n",
       "SeGOt5kXRlHnXvC34jKvZrgB6AXdR1GYiMZD3cv1ImyzOy6rG8bq4rluBCloftx/x5h48w8VE5Pg\n",
       "xGg/mY8iRDhpA1vMP96sL0cB2I9aIxQSwbN8yFQJtKEbzumA+Qo77D9VyvTvK4myY4SfWJ9w/c2A\n",
       "AAIqZG58qtSzXGtSQAsrIZ11sBiAD1gAAAKpQZqESeEPJlMCH//+qZYAAMFs/+EcrEACdbTswMjr\n",
       "YmJ0JtpFXpEtU1/+JO2znRwNvjmeClQZ/ZyfHE8pZKaPUeQMewfyEpY+86OXyX48PpKNKGFqf2DJ\n",
       "NJ6KZvh7E+EoewH+F+P4aSYASvn+4wkOwvobKb+1pdyl7asJfZUiMBnwYGVnd1BQvSxsK85NiSIF\n",
       "Ud1mk9Pu8rIZW97BpBHmj5lX3+1y4u7brJan2c+3d5gbRwxjtKH1jSjjD1Dt1nYzxXYclKcn5ZSx\n",
       "2aqGDkMnnhntwiKC9mQK7V7LVilIwm3uKEHBAf55oH9F0C12Rj0rHNvswcQugPAZfaPwAlGYkbW3\n",
       "uONjiZzOp4oDx78jhEB018+QI9xhKZ+xyfUUtKLIl6ffnkhFVpSWL8Y6HHvr4ug6s5UDnJ5Lg1V+\n",
       "NIzrQ7kZjr5YJI+f1247OGjj+Aomfjcn68EgpGdY/fNiA+iV7Fj7WxB4OPev5CiS5jXZpHbgAjNW\n",
       "o24k1lseId+5buATBxQCg9MJSSvX/6PnhuFPdFfPj/LHDmnRO90GCiD6g9ph2AdZj5QHdEs48ZCE\n",
       "Nd/cXibUVwlZjXh5jt0swfn1MdT5qj297KuL8JjN/AO0mNBevvfT1PTCJFN+LpYRjymyU9LdfGQ/\n",
       "2syNGTEprsLWrOEm/RxF+OZehkSun4q6D2zcnvlQdeRupsETDPzKmRA+3AH1AjsYC8UPXRSiS/zx\n",
       "fBEfCYjQQnnIzE9pb4poG5h84KaMEpsnYqP+BbULWbNm9NA45PgpoWXYW3CiPyYBsz6+81UnDqHn\n",
       "urW8eiKT5pYTq8797Woya5ToPg4+7wIMqyAF+qh8iTqeKutYGcVRULL7KYNJ2kR2VcCKyaEvP5/o\n",
       "UwGWT6XeVK2rrZZXWfw8ElAAAAYd+EGzAAAB6UGapUnhDyZTAgh//qpVAABxzyQE4rc5/D5phoc3\n",
       "5Chj+JiatOqOBv6LBetVzA+k/wlqszWYNwMtZLaKNRAuJcrAT4v/79dRSYibEdPpopX/EoKp5BgG\n",
       "qD3aCO+zQaUB9j5574Qd0Bx8dz7+Xw5zKqQjCmOPOym7+F8Wn0AktDs+uno7cE4kR7fTrQIViZUC\n",
       "xqGOfiVcRuYvmvALKWk89IJ1nO4oa+PERQlJErnoWmGWrxB5pKhgI2+ijjKO+Edd92SomgRtImCy\n",
       "tWhsF6w12eCCCwGmMcI0vZ4kKwigvVfmasdCLUJsxu/nkqzdkgnpuRppEd0VUMWFM6g66gxWTA5U\n",
       "URW2foxxjcj4pCLI2ZzfudUmP+UW0ay2fV7QSRn011dk0rzBDRFR/A5Xbde5C4JI+ht4Yipu2n+p\n",
       "xXllAiCUcvXGuYLuFKT90pbMmgbrc1g8HAlYWk6YQ96YZwJI2hSpDJ07kjTdZl02nLBoaytIhzDM\n",
       "RDM+PnckZbI/+6z0jNIb4Y6vvrMasttBW3oS5VWbgkKtneWdZZlPHs4XtETPSUKBN7kKdOoKdzHB\n",
       "1bPTSyUtzFsa1A3fgVUnxiK2XatUEh6Fw2ZHYvt/JuAbtc7TMoUD4C4sFkTfEAABUxXfVuzY423N\n",
       "YwgOmQAAAa1BmsZJ4Q8mUwIIf/6qVQAA9B+EAAsPz4GqDTgFIu1NNkX/o7e4mapUYpIIgTu5N9gH\n",
       "Igtt7kqe2+OslfPN+TS3sUus1GuIDHuUb/EPklSQJf+yCL6R/1OFSpAN/Djyxz0xGbxg4avLYgYY\n",
       "O2HXkRPi/ANSFC80C7NwOWN4pYVX0//O0rlN8M94u6kt0+K1ppoEmkbfhabAvAXvPol9wEvWVgIt\n",
       "zx9ujZriY1Ct8uED5PIRNVYMSO1S5ROKe0ZCA5hCf60sKUvXAUZQV2IqEZgBiSC+gVL0q2xGo6eT\n",
       "77//JuVYnGRTw6BflZ7yeQyzOAtN0J6y4nUJHR8JvXFEXNTAQ6fjGQj6lLd+r0STJ/0+v9FZBby/\n",
       "H9NajBWvTIlYsRSbJrekVY8r6fAXktIgBrEW4+Z5Z77wPkQc+8YpOwf22s6EGmH6cB+XOdoMAJkt\n",
       "Dld6dcWaTL66Gj4dVBdHugrdLcsa6N0W+D35OPU1zfeJF2WUTSEIizbJ3AOA4u4XgK9lRoQuOQXV\n",
       "wX08piTfbc+HliXLt714PBotspTd4TIGL92ULL88Iw4Pyg70JB0AAAGtQZrnSeEPJlMCCP/+tSqA\n",
       "AIz/hdPdyUFAd5wnfeX6A1pkABErzuYds7D7rZnTbxjB/sRL/25I2LCtEAehL12DRpZpi5XvEBcx\n",
       "FWf/B6fP34Uix5JU+tc68m8vDHP84tEvz4u9azKGay/E6II6vJWL7VsFkNdMm1FtOJZBCFn+UbRd\n",
       "AODcng2/ZR9K9GKykhXybRykVU664ZNt6OZKRyrmGozrspGPCOp44UUnN2GM97ha3dwk2mpSzg67\n",
       "LWF3hoDScU3sXdM1+s6t8nFulw9eYd/iRg7bPR0a22K2Kag6Q0e8wA9UAYf5OhDQn9+fngsWdh4P\n",
       "dmNFkF+lpBQZEHnyEqh1s16Wo+NHtFSXb2INffexyzfA3+URK5KKTbMo1sMx1opBJpJsYDZNVRGr\n",
       "7tR+z+KfmEz2W8AAMx3lzOGRG0NU7irIUg5E2oqLlXnGK1l5HXNjUFg40c9nzWdkgQUxC76HAlRq\n",
       "UbxJvUCPetGFO6168Z+C+/ZDEu9DJ5rRBH7N8fl/tzYvWuIsKnRs9XejleTN2Wi43KCMn/ddJuba\n",
       "avv78oXp0FcL6FVgoPSBAAAFX0GbC0nhDyZTAgj//rUqgAKF/hqucPRe9BEuL4idm1UYUzEZAs/r\n",
       "duF4A7VeADm0li4keV/dUtRFx/ROQ5Xg4pH4phZ3qP+eQbQS4bDgx8nIUqS1WoCx3gEI1x4+W8ui\n",
       "+/f5JsBiOYSJD5gZMVdLqa8bFppmSRIcGYaJMSCuMDyd+LpdjEvwc70ytAqiOVwYdogWO7OMxvT+\n",
       "y2Ue8WoJ04qUdOUjS3av4wtEomwyNGmpG7LEjsx4dHKQlRWZaXJ1CV4LL7MToKs0LKrj8PCynq/e\n",
       "rdAbqiEXPb0WJ6iCUR7Fop5iOBuPLQJ7RcGrcd5hCIcq20CleK/Q/Ce9QKtszhYu0zcE8wQXOBid\n",
       "LvA5xZJdy/MhzTuyzehrHk7AL15ftbnCnKLRPYuu5scsPKcwj17dq51vJHRGwyYdnfWc5MakT3uG\n",
       "Xe1GBMILNbF5zSGHBjJeI1NQSFwv9hSbcVFmzWSkVELOIAbqpm6lUCTrTHf9wcLjGzeN99J40bDc\n",
       "D43fyXusEvRrlxKr7D5NNvsCDjiKrXirEe2xDW20dWp1GKOM3fw3+qpP8fN/JOO7T52NSIrXWGWw\n",
       "LolJXivmDufpLQTwA/K0YpLQIQMfkBMBkxc79+8QheT+ntHyQxH+V84zSvHRah0lWbLhXJ2lVDCN\n",
       "Wj8KcypM97bNFhCHHLaUuOQLnTI/fGEqvK0BFAAv/QsK1b9qAXmooNNZCsdNNLM9ZTU5c7Pa44Ws\n",
       "B9wHXgxwPwq8Aszt3brAszHeTpV1k/UOH+O2EqW9rfARSweNOibSx/uSjf9nIyzuS1POggp/g0dL\n",
       "UxuuDxDr6fL/XrDZxkvUxldpIuligbZYKncrLCUAy1kxAVlfHY4ye7Z97s0kgpULcL/Ly5DQByWa\n",
       "nFVVg/yYEnDsC+UbYoDuGoTy6GoDdIpkdhNKl75aCdC3TkhF5uvfFN6OKOj2pBmO/ojdIncc56Nh\n",
       "Zfdzs1APNfJ/VlU/xvycMGnoUN2Jfy/xR4hH6WhjTgT5xZb9X7PW4h4an43B6z0uEbxwc82ELMSj\n",
       "7QWU7hjJQOYnJMcJlpXf9EqMc++LXNrJkxxJmKkXrQ+5EdB0zFzc5wzjHoCF0UdPaVzSmjplmGzj\n",
       "mfmOj6JY2w+hkKieRMs2FG2o8iiU/duccWcsJtoJzxGLQPVVZKy38fCYuGBi0yVY0BZu3MUeJIEz\n",
       "p28lijEX0n2o0Sp4rb0yXSK+118ZVLP4vCv/ZOD+Ispref/4jk5T1mNZi75SMYYzTzEG737u9X7d\n",
       "BD3D/6XD8gBvPrksyRokuT3l/XEdm4cIoicCukyk/gq1Kxx2bDhO9jzMCRiM9nkC2puAITOba6tU\n",
       "NXHdKg20hxO1WnaXCqdOvU46xrzEPXggRQSp3kwPg1eFB/j3m0lCCdh9+sPJZBZ+1xULsy6YoOkr\n",
       "dvaCXrTAgLF6HQqtl57T9KsvwdlKFTfORbcKgMHyYMKqtbvnYX77ArI36gb1r2J33rqy5JLSH2WD\n",
       "uyQpoPAikyTztaLxqy20HEr5MlIcTDHb0AHkQbM5If4ECCEy+gSu793ImTQnWM3W8YLgDEEpUkiJ\n",
       "qU92aDidE8Nc983JOWtBZ1+K9M8KeTsIEs5AmOxQ3ycxCIGQ9w///vyrEuFyYUpHuh7h2GN1cstc\n",
       "Yt8izKX0lI+CS6YDYtdv/xkeN6bQPm+Ie8tN1wDXjcVEHf9wetF/oHGOV66Y0h6J4hVgkvYfeO1Y\n",
       "Id9umVBbAv8a9In+n1jGLfYjHOtuutQVBCINmUJlzmqQHrV3rBPJPNAJvBzm+4M7BtvgXM2Q+zul\n",
       "ZG9ZghBYmqySt9BPu7GMALHqpiKlKh+1EfAAAAF2QZ8pRRE8O/8ACcY2UkXhPbhSxc7UV9o+L246\n",
       "qACqwgAKNIYlbczJXB43qnknwEV9lAc4xGcVy7ZC0TYmwftu4RkmhSZTj04fdguecA79MCgobByH\n",
       "5NIRln1X6PudPbB4/a4ffEpV2Oe8EwP07Syd8fUuOSPUic9sy1a4ZsNnTb/jiqr97a3Ey0S3FvuJ\n",
       "/ukZD9weN/MDpFJR/RcaseJNMlzhjfy2pWMxmwg7pdSIdqoDDQywz57m7RAOOPU4wkFe5ta7EGen\n",
       "Wdens5dWvdY7ZkIGvYQiz8zusrWPFbdE+rW97XNa526OZdlbFcSIfK6uAJh+f29ZRtfS6cutz9l+\n",
       "Rsvpuu5vF9jGVtw0SSHhv/zXsicAOS/jQCbgh3oLSk8PgLSgFJIUSZ5GPgPTeJUxC7zWcIsuIPRC\n",
       "Cs21SxesBvlLc9yq62UdzlBoqCt2joPxoj5PbLVoXEtfRSMBhDY2/9GlaGokXp37SyXXAgehm4ca\n",
       "MhNAdcAAAAC/AZ9IdEN/AAgt5WI5sgUsnR0keQ0gAJyPjCqKT+23L+3VxpLqRlxzee8wpaJXsqRq\n",
       "LshkMOjwzHJme4B30BEBtku5j3KmWvcpNzVXOPGbiZEPZUOHuuumG9MJGBRSrv4p5vFJsid90WQq\n",
       "u2bmlHc6SkpJwrId+XFjfYVjMPgKWfKWqgYZttkk+dCa06L991OObwz+DeNf/oQsAG/FHnUGmixe\n",
       "gn389mAeP4IPGiAq+IS4AJNzi1cJz7mHcAAAmYEAAAEoAZ9KakN/AA2BbkKs7h+QAE7e240dBXGH\n",
       "TSEbaV9oxkdULOdOy1XVEH47Nq9ns2eI6KNvteoN628Jr8ttuZLXT6o2tHjHW8WMlovMyAaGgP7Q\n",
       "vz0oE2ohe056c1gzzheoc6dTP7gA3YRtIH/YxVRxpuHveugonnHDQZChb+Hv4VmS4p7Gke2F2kzQ\n",
       "JEhyJRhaxRpRBFR2RsUZSFpf3mIMI1xayiRJlfKdTN9xVHeT0IfdjsvbDEdYVqbU4nRB6xwbs5F0\n",
       "rF/V9xb1lKrb/a3O2TCioaHXyGe5vGrilR1kPAFDNY3X2GEE2ygYaj5/h/ynMzH0P1h06IqRZ/NQ\n",
       "ZhAbj9WYlBwbsyKilPEkrEPQBM3msL67tt5Xj0Rog5aOJRIEDfIf2AAAQ8AAAASCQZtPSahBaJlM\n",
       "CCH//qpVAAVK/tZWoq0ADi22SnbTbMglKwehX+bkOmBn4icfvKUrI49khVs62TrXvZoU2kN+gW2M\n",
       "5qzwU8y8vDy4PtyCbv/ibMiDAlFUQQ9XiaW8X8149mHUJ9871MA3k25FLihAnRU79E6UixRIELa/\n",
       "NGydoF/DkGGO0OuYnHtKIPBH5c125YpXpz1iCY3JC9V8n31fg+a55wqL6DCevy/sJovfG/nN8gtD\n",
       "2ByW/+BpW1GhPa4KHG07FMYAQIW7B4BSiQLLsJkd9Sm1YI3lDdq/hNmK7YvKSvs+qdBUg7VsPZDW\n",
       "0sFAh4g58CvyQPqOfCJfyD9r75mikwjEjnopxSYExa7176sVJ9kp0joVBNAtk0zl4XzdzFfZXdEi\n",
       "8BCbHxu6fGwyFql8L/sGgvcUKxzaNMSfbrlc/e5ADLexQGGknHgxyeUZ3cdxHrThyCll5Xeq8fGR\n",
       "oXMVFHoBpvFm/L0xSm3c5+5ucD2u5NX9QOGijxWxZCg7rH9uOSYmK7u1DuPJ99m4EAaYQl+mRw8Y\n",
       "ES5UyL2ExVjIW90HjZLUwV74wnKWrHQ6t8I23f6DjuOBnitbAyetEoYQzh/HDWC3rFJl/BswCQCp\n",
       "QShYT34h05zBfxdQDyZp8/64LHith5ElAGU5eZ11vRXpcxqn7R97sYjzTIxkpvUis9VRJmVhh4pE\n",
       "xD0d44Y6vDgBvJYill6LUPm/7E4gp7MO67mCUDV1p2ybUIc/8DD78JKj1/LqsOEhqpvlBoPVAAEv\n",
       "wwa8UsfPfxj+w6AVvBPpE8SzysZMZrm095/vxbONOl0feUt7yatvhSbeqs4kmFYBcXfUY7pHHkCz\n",
       "qC3ir49jok8yfxnHDHJUGX6ivNBrOFAVAF3KP0J8vys9Q5EXLvZOfGuxhbQNjJXOBjG54+RD0mms\n",
       "WBmgHdivg9U0rk5SLho15A+yxdyGk6594VsBQIBlRKLTR7vM3DYHoaO9QkG2OyEKyNcd0BXXNklI\n",
       "JmdkyIbtu9u5xj15HVOaF2wncwEZYAPAP76/kMQ2Weu17vEMbMnfGiwDuOqtiqmE9qTmR/e6Gbu9\n",
       "ZIiO+F+N2Fa6HgkK1UXjGPPxgODev5YeFjo6HRkpfUgPLnBop2eVzUthlK+k/Z9lo2rS0Ig0DMrN\n",
       "AhBCm1i5v8iqR3cp33P8os48S916smOlAA3qbL9SBdrkaMak+KalcwI1rIO3Y87JMnLJg0BCuYEN\n",
       "yL4JljoNEOOVLf/c3ZNEXZhdRygJxLDszKrnhyNHMO1kAjDHzJPpjUqHfdQwVqsMRWYVpDItUVcu\n",
       "OfBis1bRX33XXwom4oNAw/mDtSYQ+vGUhrK1EqMSNdIvbmAvwpAJU9jwveSK53nDl8wwOOaFRKZ2\n",
       "4MUoEDin7IRmD3QKH4nYg+Z/e20/NzLC4HbFrrs3W6YRCSYTM0jbP1NSuLplHFS84p0wTRrjLhb6\n",
       "9ts/3xgszgxNbaxQuP30jnVBQ75q4RJ1BtYYAFnEDRgUSvQduMsOF7mRXHvYNzyq86tUmQbtZpKi\n",
       "xV42qIAAAAIeQZ9tRREsO/8AClKu7bTxf/UAAcbQmP4xOM3jgqu+KFgizQ99Chdz0SlWX8eCiWsr\n",
       "ebGzbOxCnf/kC3hv3Oh1X0oqWEi8L3WZS17jxRfhXPn8rZB+iqBHSHlNzHOoVLR5herDlBz/FbwZ\n",
       "922Wt/oVVFqsW9R72tw+85fieenV5SYB25mIiOAmNw6jwL3hDRS5Wd8R9yFaHtdjBWS07j0i2cMN\n",
       "fNeNzcZTDSSsFMt/06SZce1sELcFlKOWTlkeQQzncMTqlLVUHRjqe5Xf62sfcQWZCE+yAX3FhY05\n",
       "mO7wRDJZADEQGLc/AkRBWwvgp6iFcjD6mEnFfM3xUmzctYLOe0D/KFziVxGwLlIv7Tf0ZQsi2Fj9\n",
       "ENHGQ0nuA1xVw+8c8RuAVHJoyGBg083T27QewZbSdeQmoVuiyXAn/krtDxHhn0iEgmRb91/a+SYE\n",
       "3lL4d7DH/EoVmo78Of58xYuotXiinIurDD0x/NBpeXJ7l3NSN8aArY2yXXOXs7wHKBMX6FQhShpO\n",
       "fYWXfZGh3lIvoU10I3yIJVQ5h+rr1KYZwNmRErcjXrd6vLLv5yatgwesj7lo0klju499SK/TVG/n\n",
       "lBPHvMareo/DN7MB362+RfGh4Nk6PNXk8rPyT+OQFYA2Kl4hvz1JpJrCJIvXA5zSxPfYZkdghz6X\n",
       "DV0hC/TzakJ86ZD0itOMP7TEP8q9Ek7KIAnn20v2Ed48OT8ALSEAAAHWAZ+MdEN/AA4p7g1cS/Gw\n",
       "0zNeX+QspABsmtgZn2mffa2sv0vxGg2od/PIoK1wT31AMEb5xDxrowcMqSf+zD57JlAaU5GhFavh\n",
       "yzkbFzjtUPlfG8n1fCf6hG5GQCynONOITKf+roN5izrD0Q5MWNq/SNh0ODLPYxnYb4EyHO7P6iWV\n",
       "sX5PT5c7ho1/ef/+26lQkmE/ZPhoZksg64I9d3grXxsXnzL1R0N3o+3Dir76MPvl2KoFYZu/gyr7\n",
       "fhVqeS+nhXhfBp0QaJGXPrSLwPeRH6iilrIanaQfe2zL/xQiWWM6v1ojQxiPI8DZhwQD4tg4rDjQ\n",
       "zdvl5UMRHsMl9oOrCnMKY2XvTMbxBheW+y8j3K38xNyrgxdNIEKKPsLxCRtO9SXfqUHf4nCGtw+2\n",
       "dUfOKuhGVfmzGnKKS2+YuWglyvMGAfZFwScEgchOB/RpMv36FFHnr2IoGefpeE3jGeFc4sAjWdfS\n",
       "cgEt+bLAr9eaNRDg5x1Gjis4MELxk2Jn/aVr8E/B+yKGSwd0oGV1gtATMxAigPiz5W9BEHQXYAG3\n",
       "TLI48tes4qvcVNP+vyRhtM/3J+keiOMiyGgskGWLnxV5NzqBEajnMTwtlsVttgAAi0ZRv3gGeDkA\n",
       "AAFCAZ+OakN/AA540T3ACFOzZK7bSdx9qBR2ln5a3KvtRveQ+4BiyLCJWeU3zCemgs7nBV8bPT7p\n",
       "tTp4cu7cGwMD70pntau+B7tDQZFpDTRz3qmdMtK8PlR6IbrBujDo/snLzTfCk5AThh5wlkW785kS\n",
       "iile77EX0rl1hsezaokGtmZ1ThSMoLnwGuvJLhOuR12U0bWZxTqeS3zmMNITpLVzyTpLXMoezqel\n",
       "UAHamusfu3JtZJBY0fu5CO0dP9BWF3zdhIoFaNCQMHgsOhbB1SJ1waIB1qc74rk4WzAeT7gUF0mi\n",
       "5b2xOP6A0PD8XZeO6tYfGspHnfyrEYZNXpZiUP1z9LUS28EuiU0mwZaJl99zEzv6iFqQZLn8rb4X\n",
       "Fw5dPjyUHIbPTw+a1kupdvjU57o3IRIHquhqPEgABRs0Qg1aazgJGQAAAyBBm5BJqEFsmUwII//+\n",
       "tSqAArhQ6gAia9MmfJITpd8SzhSls/fE7YzyDYK4W6R3NWStNxA+4Lh/L+YvbqEELVvEJBJXYVC8\n",
       "BsrlppJsGvFmd+T5z9fAEWRnDRrnK20bwwyBf6ve+0aNrEBOC6zlW2z1Ao/636iDOTU1DttnQaoE\n",
       "qNvtks6HDsT0RVHgtJ/EJB1f7dC0MDF1LCJnGnpqxApVKChVu40jd0/pIE7Ey5LDCJKVM9Kr+YDy\n",
       "Px/OuhYKY0dUB4UQhUaj13MGUWahfmld2xbi91QBAvPDdvAUBSzMCgfUh8I7sFELFaUJ6GvuTQ2f\n",
       "0C3qgdIACDEZUo/7Pm8oL50lEB1p8NYM8z5HtRVHF8Hk9EzK/5EF8f521kFJEoq6tnXW7N3gULUW\n",
       "16nYDCp4bmyYORvf1uyXETG8NokIq/giZM8ncRhi3H3AXHJp7+xafCQwjSj03CAhA8Ll5/va7eAo\n",
       "DjEoyUVhLKiUYdvdyFhAMYxLLyksHFYuqpfiUViggZBiCA90nu9VY2yJPZzl7Dgb+gkc4kHAPdnc\n",
       "iqxUVoz0oaozXzJ8Km6saCCwWWQd8A9Y7TspwFnnnIym6/3oAZ0cEyKEi64iB5LQPItXfayR3BrJ\n",
       "2u21f6nXxfJ5TsUZ1WJvv9oURZ9BwSYutS1ZCroMvfLCIDqAiXVg50jTRGtCf/lJ2BJSuErK6FOF\n",
       "6sfyd7iuACm3U1QUgcHBRAzypjuBGH/pBTGmfEniehceKM3EcjyMrUVf2cmQsoXvOV5uHMjal80d\n",
       "ZeQq7fMC5KvoJAMCph8a6EAXC3JvnCsXBIYoaypowM6pJy/gxbVRMq5C3V5/8eA9RGg4EWiPjj+r\n",
       "JU95i8Ux3VqEr8ImEOaX3WynXtCBIpnEX5kJ2YtweXa1/Gl+oYj/jThvHtwIrPQwwIcWt27V7f3k\n",
       "GK9e/lMvCIw2NYUh9u6IK/QiMW44FR5nbw0gfSoVPT2r8LqA7gDdYNxY/B4diut57W3vlATh1N0z\n",
       "geoWNQPFTwpZD8zMh/593zZZbgr0lMZPBgPSavzK/LGxWUQCZ6d7jlVmcGi0PAAAA/dBm7RJ4QpS\n",
       "ZTAgh//+qlUABW/E3gBYe6sS7MV02e0xHY2HHYkHRrwX+lBtIEqg/xWY/+inAA6JH/dDn3PR/KLU\n",
       "OLziSM+HdDaC0/L2ZdPBUkCS5XF4s16v/8P1GR7jYKgeLkWDJMVOIfXz6hB5AEJPua1esiir+mCB\n",
       "hE+iZ4oeEBh1N98Awz2D6EZ81Quf6FshGfNbvjeAqMrvKDihJ2IDH1t7eEI3EWjlP2d+sQLeIUWP\n",
       "ZF1avAq8hXtdrGgS4IhJw4zhDQAZb47IJVDNLF3gOIOzuzqE6yWgNZBSOMePjF1PZ5v0s8Ec89Nb\n",
       "Mvfe8lQu5PoXiWz9gaBqzZ2YyRKpjE9OtqOkdcNDY2vTYqVBNwuFHdl267dslkVGavnKT+p2S3zy\n",
       "DHJb/eUwfAXtm7rOg9QFD4e6ip8wg4o1DhHDpsgBEqQOLvvW7YVNn423nuTZ3Z5SHgqqsZKLFjBv\n",
       "1KwwT9wOUAVGrpzuQ3mGUdzL11I4rf6IokRxHNDzfooyWpRrk8zwSKU3uBKsUtya9094cZg2KlLP\n",
       "bduR9jX/KwSqpiEHLJ8RUawxYZe8Dt9IkKIwkKFWz2PKPBMF+N63cg0xJuMKh9EeHcB1d6d511kS\n",
       "tthOQzVAPmL+f1zFUXYHPnFPV9nYwuoPiQB9owGJQhude7HWceA2fbycPC/M/W+kHt8UHklRGRfV\n",
       "VcE0uOFIKrVuO6078B8z2aRUn2b1jVJ/+fykLjubaHlezmyA5UqGUTAVY9cc/FLYNPfCPMGUY5RS\n",
       "tS856gn/CbR5EwsgDGy+ICel/31m7JOJDOXfcb1EIjCmMYRrHtIy229ZwmpCHinfW0+srhFpoICR\n",
       "aymRs8UcYXmZZdYSzS0rAUXUScFCf/phxKvivzBB4Byn91z9aFjh+zQa3d/MCdtQb7YUB/wq3dJf\n",
       "AAvwxp7yoibbIKADoSOW9/HBV7WMppaPGbvtl2IxOFW3ZHNAerQvDynjzRg1VaF5nMShmFmUucQV\n",
       "qFHhmzOltzdmvklKMaJdHYpbm49r1EeVo/JfAyVJtg3/96PxlqGS+LSSUSpE6UJZBit3lZEgwip1\n",
       "0RDQjHY6+WgDbQcDjlg9sGbkE7jISnNoWbklsgO6EIpeCKVzjY+1Qwa99QcsF3o/JOK13x6KlFGP\n",
       "9Xhf2wWQWyQSn3ti4vOjSZxJz7pyLM92wx+Vx2ZdCMCC4xGE3k3iFDfYcnZhAY+q6JzqNX4moet6\n",
       "iugd4zvVpmjT2VVTJ0cx1L99WLutsxYkOGOwj1iJx86K7I7b+AYvCrmFwjAD+5zOOeq1g0H+YSHr\n",
       "zm9TAOWTxKnqMmT24mYA4NN8Hps3PkG/+iZd2FkvPKWXZmAdEVYQAAABSUGf0kU0TDv/AAovXL4f\n",
       "RJ7YATTVnk1jAYuNgxsynTjiG8yW2Gl0zr4fNRzfexkBqLdeDluT1oifTLMdcmt3jCEK7fCFRWjG\n",
       "Sm1Odkz1vfMpYQ7WuZZLbaXksxXJi+n4OC/iThh1SC/o4tbfjjsVfLAI0HOImEX4z2esUaTbjybY\n",
       "GACrEGivdjjRWzbYHw84nkRz5mZc9qhEptsZVCyWtsdh836e7x4IsMeZOWepRmeVaWOltkdf+nAY\n",
       "6MWjqMvOB7klb5u4JcczypE/FoLVMs0t6sazR8+xCuJoTU6Gb6IfxbHJqE5TLOjFWlsSD6Nzk0+G\n",
       "2LOJt5DZ4wldUIwNWLEenS2I9HBr2FLiaKDdUzRUGqOKIc0vO7vI4hRjp4prWneCQnUHQFx305Lm\n",
       "AUVrdCuTQ6/0B9fpP/UywpjlcFmOknlYAsMWTvOPAAAA/wGf8XRDfwAOUVW3lzKAAh+j/8nypI9e\n",
       "g4J4a/xWE+m+Qub/eB2l7K1XgjqZBoNKxLvAFR4FX/tTEKndhJldWEHlKTwBkBD8shGe34CQgAQi\n",
       "BDIn3t/bHHknErEGRcbXDDKuyqUiJFCSYclZz6UaKEEa/dzUnNN5/sCyvdqBOzNeXCLsF/WnnD3C\n",
       "uQqtTBzuu461PrrbES7iGwQ6LdhJFDh0UDe0ks4xS6wK7MPcThsXcAxX6dsoHNZYBP+1K9u2qqBk\n",
       "IvM9/iZYgcgT1dkUyS8f03GNBec18Cz2doW22TZ7Q2+URx4xV24X3iy5GRA8QACDp4H64/og4MEA\n",
       "AdpoDAAAAMQBn/NqQ38ADonlIANpPff2QCrDyEhYnskuDaInqv+5POjg6ewBTT/YyHJ30AcyIEdy\n",
       "Jw6ZELoMhDGLWvzrlUwf4H75r3sqFyyC2yOhqtv3gC7GdekO4Un2zwXwSpntUdnIm1ASw1nJY5dh\n",
       "kHEInCi+y44OMoI5OEZmV2ZZJlVwwu19KYfulGEaaV28BQ3xWespopu65eJulsD6htyEtwTgnv85\n",
       "djHfKIx9QS5P5/tp3COzhhXoRndQAUJnGHa/IAAKyaakAAAB0EGb9UmoQWiZTAgj//61KoACplP7\n",
       "QAiPsE33sxYje4RiS1XzV57l4N6ZMLcR7jDTl0j1fHWs8XQZmoJgg/NiiB/O2Jm2lmkbYVk7N/eO\n",
       "j1Q6bcfmY7xreUTeXeJ3gKAheOH/py5OsSF++fqAtZIyy/1gTVc/Bh6PAISnWOa2y0dSpMTPdgtS\n",
       "GFoYqghQoujbksYD/7jjQH/DkUw8/ZSogui3CCJrSCZZpsEFx4fIDZZBg54EE8vimHwMbBrqqjwX\n",
       "3JFq4RtLJnntbnCklRR94b/54diEhGIb9okiSd3rU+Q5YdHRERwznNIVpuv+CeCzPOVTyK5CZfxv\n",
       "GlZ3tvELtF2yAw5tIX247B2E7wcggL+JLHGmU26BdOw3tRFG/6dSuZAh2snxRmQp9C+Aec3v433O\n",
       "vfV5ZLXKkFxCFPmOwB6vUbtD5yztrQDGPW1yIZf7OuDvYmm40wW2BAPq7zdTI9vvO6F+m1ILIwZ3\n",
       "LVg+0ReNzYRacJM+3M+0i2bz5QeJFmW6RINSjDzLJJXGJHy3CU9KVZuANQWUXdMYQbzlnVyT2+Cu\n",
       "IhUy0a8WvfbDD0EfUbCeE93bIz8KrZSY6LeSeIw3zFKUfH6NfQ7XSKNs5Au5AAACvkGaGUnhClJl\n",
       "MCCP//61KoACuFDqACJrxGdjRgC/EDxSrJmaMv8RPuGEe+/jtJVAeRmflxNazE9BICoowiJU065/\n",
       "brjn/F28EBXcVF/svBKA+j0aY/iQsMnFlqbOda4jn3zakmu6ayynpK68Fp6Q0orMB9u2qGYQl3XD\n",
       "HNympJcOmAKsGcymW9Hd9b8FN60JQSA7zn4KSH+5w6lSoGhTN6T75uj/wwFnx7UCCOl5AqCrBG1L\n",
       "jEGCxAPEkzfStTm/iS9UCtCIvM1duNSmLbUpAGnLKIt3GtgGHFkLhywoSqCsJZBVa3kzq4WQlt3F\n",
       "sMvkSD1VAGKCtiespf1GbqkjkiHDw2rBKuQqFJwq5fdujIkgWSQQPdlyoOyo3hTTA4EXe3pOmuiD\n",
       "MVStOaIE98Gmph+PxDWTSFnHZPMhmQfVb09HqWPAcJ66n7StK7LDjyDUE/s1G0bN8k7aY9jOhsR8\n",
       "INneT6CSa+jTWksRLidtG18Oo9cJ/Kex8wz6/CQlmh2B39T9RBETl9JQuK0+synKN+y+G9c1j3hM\n",
       "E/rQ/aOeDbziRFiTJqikctLSdBtgu7yvdkBuRzHCKYpK+uloipP8EtjeAPr2/jPFI9BWY3Kc73L8\n",
       "P1lFWc4iE/Hu7tVFgpwKq12uOOPU8xYrwmIzLB0/hG456CV7yqrfaIBRB2WVuJ7thjRzKAHLpiZ+\n",
       "cDf3hEpssBNhfN1cyLhBvhqyv1tkIMVkhrzYbGa6MyvMkWuToRd029ADTHasPmNryLH1cQNa2vDH\n",
       "kVf80MQCi+pBwa/rrEmakO24tu3xecKNVSIoEnB6fA1cfh1FFtGHUomcBN6xS30T+l8faQ9Q0bBI\n",
       "ZwEcawy/ZJMguSD9TvO5FdWSRKBJhdCEDahS0q3o8wc9WgevHr3hXT1Q78X/Q9wH+Xb+/Mslr2MI\n",
       "sQSZtIamMQoogAAAANtBnjdFNEw7/wAKUaw6ACWq4lHue0PyQ12zy7HBspCmgSZ3WUXHj+KFDhde\n",
       "/0SsgSLHa7VeIdPWbzi6cK1Xz9d6W1jl9hEzGJVvSF7E6e6E8KWCOua7F4D2vuYp4R05xuDYe+Rl\n",
       "frryrrHOM5NOQP83t5aiauD79EDuwLCPzVRIUnV4hqdOp8x/pyhhsEPtIRHE9xpsHkhCGuVq+di3\n",
       "K9hVzUAAVKCeURrgm/SBi66acwId1MwFFYxEg5iff2XErvtSN0N0UQ0dxwmPj2jZJkT4rip4OBJT\n",
       "Ra7gA38AAABkAZ5WdEN/AA7Z8I1SAEIwzUsb8nvTjd3jl4wG9O4VMe3wtj9jVQuvjZ3rdIoOtSPK\n",
       "nPms3UmPHzM7kY2NfnPj+q7j2FpzGNkO+kz+fPD3x3cDEpikoBUe33QWw57uCOSnegAGLQAAADwB\n",
       "nlhqQ38ADtd09GBU8cnoPPBCz5z+AD5d2/mp3xBDKIVw2rTdaHhWn60uB5JFgKUjFo5EsEF+S2gA\n",
       "AQ8AAAFdQZpdSahBaJlMCCP//rUqgAKmU/tABr6MXJPX5fj8FEbDvatv7kvJlPfP9aqgvjNX25ta\n",
       "TMtdHOJQ/3jx6x0uPoW0JW/VZgtZokwbe5hn3wayiqc+yr4FbYa78GMwmHnRLG2OZq4nwR6IjpXS\n",
       "2GolDj17HdyH7fOFztz9QJjWrXjNvxADJtf5zeRNWclPN5o9dx2sH9ooAvnMFUeAOUF8rVZWw/en\n",
       "0yXBx+krnPA2RzdcSaM26KRyDjQrqv3Z9rwODT+qD9ZjZt2qTcQMkpbTHJDIDjJwQmYfPjYIQj+b\n",
       "frY38EHH3JvRDzGlgiF7chscRHfMdAgVjQtiIi7jObN5xEAxpVCXlpV5/GyuPRL+ojhnUoDS8CYT\n",
       "v2OBEQFt7wxxtbpkSlqgVyk8cJXPDqy/LokYCJcoUqHscqHwPsZm9/WHaLMpsI+5dYsaxPzyKrdx\n",
       "cyJoP+qo3QXhAACFgQAAAGFBnntFESw7/wAKWT+gAk61X3r+3zXAlgf8LB/WVk3ygYTGFKq2qeur\n",
       "XPSJqV/rVVfv8GkPrupYoEQBDnGy/X4YVjmyRU+g3B+68OyitWrRAzb7txkwdHuoeP4ARBSkAAr4\n",
       "AAAAHQGemnRDfwAOfqCe1hyfywDsHTQjstfVwbUAAF3BAAAAFQGenGpDfwADy9zR0aVIW9J02YAM\n",
       "eQAAAMFBmoFJqEFsmUwIIf/+qlUABZPHwABGKPkp2MkxSUsS7+wIq+CSqR5WYjSCiElTAS8QCUJl\n",
       "R3DwH2pOaGMExzTl6Wa8S+Kg56tvIWt4pjeqhk09KSyaNGxy/+aL4TzU/5No1qn7dOFYmDPP4n+E\n",
       "iKTuduTDvfvuvnwEQ3TwliWJ8IqkT0/B9fLxcdEJFV2mZf1BRn9aCrjqC99nUqhzFJe7VA7z4WRN\n",
       "ffPTYfoiKDV/ybHYqZNepaR6zD2VslT833BkAAAAL0Gev0UVLDv/AApRj6/9oEkDNpdrV4cdAu1l\n",
       "wEGpy609ITAfzC0ZCeIqkkbgAHdAAAAAFgGe3nRDfwANL1gXrK8Mn9kK9B5ADpkAAAAXAZ7AakN/\n",
       "AAatGQvICs2io1RgeXAAyoAAAABhQZrFSahBbJlMCH///qmWABSexw4AJcwnNDADF1gOlANuqe0e\n",
       "wk/U/n7xBIntPtnaDyD0W30tegev8X+sFOs+LAOZIJjVP5VAsRqdxqKHrh0uIkiK/ThAZHOx/QEZ\n",
       "EAAbMQAAACZBnuNFFSw7/wAJxNKjctiSNq1ZKGNPvNaWkGVGPjryf64JHGAN6AAAABQBnwJ0Q38A\n",
       "AzfWCd21M7uUBIAG9QAAABYBnwRqQ38ABki7LwrzqnPtdbW/AAQdAAAAGUGbB0moQWyZTBRMN//+\n",
       "p4QACOqD2sAAD/EAAAAhAZ8makN/AAZJTW9vFvdMMDAi1Qlrve4ep3Vm/xB7wBdxAAAE121vb3YA\n",
       "AABsbXZoZAAAAAAAAAAAAAAAAAAAA+gAAA+gAAEAAAEAAAAAAAAAAAAAAAABAAAAAAAAAAAAAAAA\n",
       "AAAAAQAAAAAAAAAAAAAAAAAAQAAAAAAAAAAAAAAAAAAAAAAAAAAAAAAAAAAAAAAAAAIAAAQBdHJh\n",
       "awAAAFx0a2hkAAAAAwAAAAAAAAAAAAAAAQAAAAAAAA+gAAAAAAAAAAAAAAAAAAAAAAABAAAAAAAA\n",
       "AAAAAAAAAAAAAQAAAAAAAAAAAAAAAAAAQAAAAAH0AAABkAAAAAAAJGVkdHMAAAAcZWxzdAAAAAAA\n",
       "AAABAAAPoAAACAAAAQAAAAADeW1kaWEAAAAgbWRoZAAAAAAAAAAAAAAAAAAAKAAAAKAAVcQAAAAA\n",
       "AC1oZGxyAAAAAAAAAAB2aWRlAAAAAAAAAAAAAAAAVmlkZW9IYW5kbGVyAAAAAyRtaW5mAAAAFHZt\n",
       "aGQAAAABAAAAAAAAAAAAAAAkZGluZgAAABxkcmVmAAAAAAAAAAEAAAAMdXJsIAAAAAEAAALkc3Ri\n",
       "bAAAALRzdHNkAAAAAAAAAAEAAACkYXZjMQAAAAAAAAABAAAAAAAAAAAAAAAAAAAAAAH0AZAASAAA\n",
       "AEgAAAAAAAAAAQAAAAAAAAAAAAAAAAAAAAAAAAAAAAAAAAAAAAAAAAAAABj//wAAADJhdmNDAWQA\n",
       "Fv/hABlnZAAWrNlAgDPn4QAAAwABAAADABQPFi2WAQAGaOvjyyLAAAAAHHV1aWRraEDyXyRPxbo5\n",
       "pRvPAyPzAAAAAAAAABhzdHRzAAAAAAAAAAEAAAAoAAAEAAAAABRzdHNzAAAAAAAAAAEAAAABAAAB\n",
       "GGN0dHMAAAAAAAAAIQAAAAgAAAgAAAAAAQAAFAAAAAABAAAIAAAAAAEAAAAAAAAAAQAABAAAAAAB\n",
       "AAAUAAAAAAEAAAgAAAAAAQAAAAAAAAABAAAEAAAAAAEAAAgAAAAAAQAAFAAAAAABAAAIAAAAAAEA\n",
       "AAAAAAAAAQAABAAAAAABAAAIAAAAAAEAABQAAAAAAQAACAAAAAABAAAAAAAAAAEAAAQAAAAAAQAA\n",
       "FAAAAAABAAAIAAAAAAEAAAAAAAAAAQAABAAAAAABAAAUAAAAAAEAAAgAAAAAAQAAAAAAAAABAAAE\n",
       "AAAAAAEAABQAAAAAAQAACAAAAAABAAAAAAAAAAEAAAQAAAAAAQAADAAAAAABAAAEAAAAABxzdHNj\n",
       "AAAAAAAAAAEAAAABAAAAKAAAAAEAAAC0c3RzegAAAAAAAAAAAAAAKAAAFQgAAAHQAAACrQAAA5EA\n",
       "AAKtAAAB7QAAAbEAAAGxAAAFYwAAAXoAAADDAAABLAAABIYAAAIiAAAB2gAAAUYAAAMkAAAD+wAA\n",
       "AU0AAAEDAAAAyAAAAdQAAALCAAAA3wAAAGgAAABAAAABYQAAAGUAAAAhAAAAGQAAAMUAAAAzAAAA\n",
       "GgAAABsAAABlAAAAKgAAABgAAAAaAAAAHQAAACUAAAAUc3RjbwAAAAAAAAABAAAALAAAAGJ1ZHRh\n",
       "AAAAWm1ldGEAAAAAAAAAIWhkbHIAAAAAAAAAAG1kaXJhcHBsAAAAAAAAAAAAAAAALWlsc3QAAAAl\n",
       "qXRvbwAAAB1kYXRhAAAAAQAAAABMYXZmNTYuNDAuMTAx\n",
       "\">\n",
       "  Your browser does not support the video tag.\n",
       "</video>"
      ],
      "text/plain": [
       "<matplotlib.animation.FuncAnimation at 0x7fbe912a9160>"
      ]
     },
     "execution_count": 25,
     "metadata": {},
     "output_type": "execute_result"
    }
   ],
   "source": [
    "fig = plt.figure(dpi=100, figsize=(5, 4))\n",
    "plt.scatter(x,y)\n",
    "line, = plt.plot(x,lin(a_guess,b_guess,x))\n",
    "plt.close()\n",
    "\n",
    "def animate(i):\n",
    "    line.set_ydata(lin(a_guess,b_guess,x))\n",
    "    for i in range(10): upd()\n",
    "    return line,\n",
    "\n",
    "ani = animation.FuncAnimation(fig, animate, np.arange(0, 40), interval=100)\n",
    "ani"
   ]
  },
  {
   "cell_type": "code",
   "execution_count": null,
   "metadata": {
    "collapsed": true
   },
   "outputs": [],
   "source": []
  }
 ],
 "metadata": {
  "kernelspec": {
   "display_name": "Python 3",
   "language": "python",
   "name": "python3"
  },
  "language_info": {
   "codemirror_mode": {
    "name": "ipython",
    "version": 3
   },
   "file_extension": ".py",
   "mimetype": "text/x-python",
   "name": "python",
   "nbconvert_exporter": "python",
   "pygments_lexer": "ipython3",
   "version": "3.5.4"
  },
  "nav_menu": {},
  "toc": {
   "navigate_menu": true,
   "number_sections": true,
   "sideBar": true,
   "threshold": 6,
   "toc_cell": true,
   "toc_section_display": "block",
   "toc_window_display": false
  },
  "widgets": {
   "state": {},
   "version": "1.1.2"
  }
 },
 "nbformat": 4,
 "nbformat_minor": 1
}
